{
  "cells": [
    {
      "cell_type": "code",
      "execution_count": null,
      "id": "3a120e01",
      "metadata": {
        "id": "3a120e01"
      },
      "outputs": [],
      "source": [
        "import pandas as pd\n",
        "pd.set_option('display.max_colwidth', 3000)\n",
        "\n",
        "train=pd.read_csv('./sample_data/module_project/train.csv')\n",
        "test=pd.read_csv('./sample_data/module_project/test.csv')"
      ]
    },
    {
      "cell_type": "code",
      "execution_count": null,
      "id": "c61df93b",
      "metadata": {
        "id": "c61df93b"
      },
      "outputs": [],
      "source": [
        "train.full_log.replace(r'\\\\n', ' ', regex=True, inplace=True)\n",
        "train.full_log.replace('\\s+', ' ', regex=True, inplace=True)"
      ]
    },
    {
      "cell_type": "code",
      "execution_count": null,
      "id": "73228a37",
      "metadata": {
        "id": "73228a37",
        "outputId": "0f5ea236-a9e9-4380-8729-3654f4466f2e"
      },
      "outputs": [
        {
          "data": {
            "text/plain": [
              "'Jan 22 06:28:59 localhost kibana: {\"type\":\"error\",\"@timestamp\":\"2021-01-21T21:28:59Z\",\"tags\":[\"warning\",\"stats-collection\"],\"pid\":4485,\"level\":\"error\",\"error\":{\"message\":\"No Living connections\",\"name\":\"Error\",\"stack\":\"Error: No Living connections at sendReqWithConnection (/usr/share/kibana/node_modules/elasticsearch/src/lib/transport.js:226:15) at next (/usr/share/kibana/node_modules/elasticsearch/src/lib/connection_pool.js:214:7) at process._tickCallback (internal/process/next_tick.js:61:11)\"},\"message\":\"No Living connections\"}'"
            ]
          },
          "execution_count": 59,
          "metadata": {},
          "output_type": "execute_result"
        }
      ],
      "source": [
        "train.full_log[6]"
      ]
    }
  ],
  "metadata": {
    "kernelspec": {
      "display_name": "MachineLearning",
      "language": "python",
      "name": "machinelearning"
    },
    "language_info": {
      "codemirror_mode": {
        "name": "ipython",
        "version": 3
      },
      "file_extension": ".py",
      "mimetype": "text/x-python",
      "name": "python",
      "nbconvert_exporter": "python",
      "pygments_lexer": "ipython3",
      "version": "3.9.7"
    },
    "colab": {
      "name": "test.ipynb",
      "provenance": []
    }
  },
  "nbformat": 4,
  "nbformat_minor": 5
}